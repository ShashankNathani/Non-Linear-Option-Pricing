{
 "cells": [
  {
   "cell_type": "code",
   "execution_count": 1,
   "metadata": {},
   "outputs": [],
   "source": [
    "## Imports \n",
    "\n",
    "%matplotlib inline\n",
    "import matplotlib.pyplot as plt\n",
    "import numpy as np\n",
    "from scipy.stats import norm\n",
    "from pprint import pprint \n",
    "import warnings\n",
    "from collections import deque\n",
    "warnings.filterwarnings(\"ignore\")\n",
    "import copy"
   ]
  },
  {
   "cell_type": "markdown",
   "metadata": {},
   "source": [
    "# Dual Problem and Upper Bounds for American Options"
   ]
  },
  {
   "cell_type": "markdown",
   "metadata": {},
   "source": [
    "<strong>Primal Problem</strong> (maximizing over stopping times)\n",
    "\n",
    "\\begin{equation*}\n",
    "V_t=\\sup_{\\tau\\in\\mathcal{T}_{t, T}}\\mathbb{E}^\\mathbb{Q}\\left[D_{t, \\tau}F_{\\tau}\\big|\\mathcal{F}_t\\right]\n",
    "\\end{equation*}\n",
    "\n",
    "<strong>Dual Problem</strong> (minimizing over martingales) [Rogers 2002; Haugh and Kogan 2004]\n",
    "\n",
    "\\begin{equation*}\n",
    "V_t=\\inf_{M\\in\\mathcal{M}_{t, 0}}\\mathbb{E}^\\mathbb{Q}\\left[\\sup_{t\\leq s\\leq T}\\left(D_{t, s}F_s-M_s\\right)\\bigg|\\mathcal{F}_t\\right].\n",
    "\\end{equation*}\n",
    "\n",
    "where $\\mathcal{M}_{t, 0}$ denotes the set of all right-continuous martingales $(M_s, s\\in[t, T])$ with $M_t=0$.\n",
    "The optimal martingale $M^{\\ast}$ is the martingale part of the Doob-Meyer decomposition of $(S_s-S_t)/D_{0, t}$, $t\\leq s\\leq T$, where $S$ is the Snell envelope of the discounted payoff, i.e., $S_t=\\sup_{\\tau\\in\\mathcal{T}_{t,T}}\\mathbb{E}^{\\mathbb{Q}}\\left[D_{0,\\tau}F_{\\tau}\\right]$.\n",
    "\n",
    "In particular, any martingale $M_s$ with $M_0=0$ gives an upper bound for the price at time 0, $V_0$:\n",
    "\n",
    "$$V_0 \\leq\\mathbb{E}^{\\mathbb{Q}}\\left[\\sup_{0\\leq s\\leq T}\\left(D_sF_s-M_s\\right)\\right].$$"
   ]
  },
  {
   "cell_type": "markdown",
   "metadata": {},
   "source": [
    "## Optimal martingale\n",
    "\n",
    "The optimal martingale that gives zero <em>duality gap</em> is the martingale component of the discounted true value process (known as Snell envelope) $\\frac{V_t}{D_{0,t}}$, following the optimal exercise strategy.\n",
    "\n",
    "To get a good upper bound, we first find a value process that is close to the true value process, and then extract its martingale component. This approximate value process can be obtained from a functional approximation such as regression, or from an exercise strategy (stopping time).\n",
    "\n",
    "In general, for a stochastic process $\\{U_n\\}_{n\\geq0}$, to extract its martingale component, we only need to let $M_0=0$, and then\n",
    "\n",
    "$$M_{n+1}-M_n=U_{n+1}-\\mathbb{E}\\left[U_{n+1}\\big|\\mathcal{F}_n\\right],\\quad n=0,1,\\cdots.$$"
   ]
  },
  {
   "cell_type": "markdown",
   "metadata": {},
   "source": [
    "<b style=\"color:darkorange\">Example 1 : </b> Consider pricing a one-year Bermudan put option with monthly exercise, where the asset price process is assumed to follow geometric Brownian motion with $S_0=100$, $\\sigma=0.2$, $r=0.1$, $q=0.02$, $K=100$ and exercise dates $t_1=\\frac{1}{12}$, $t_2=\\frac{2}{12}$, $\\cdots$, $t_{12}=1$.\n",
    "\n",
    "We use the following martingales to get the upper bound :\n",
    "\n",
    "(a). $M_t\\equiv0$.\n",
    "\n",
    "(b). $M_t$ is the discounted European put price with the same final maturity less the initial price.\n",
    "\n",
    "Reference price of the option is $5.152$."
   ]
  },
  {
   "cell_type": "code",
   "execution_count": 2,
   "metadata": {},
   "outputs": [],
   "source": [
    "def blackscholes_mc(S=100, vol=0.2, r=0, q=0, ts=np.linspace(0, 1, 13), npaths=10):\n",
    "    \"\"\"Generate Monte-Carlo paths in Black-Scholes model.\n",
    "\n",
    "    Parameters\n",
    "    ----------\n",
    "    S: scalar\n",
    "        The spot price of the underlying security.\n",
    "    vol: scalar\n",
    "        The implied Black-Scholes volatility.\n",
    "    r: scalar\n",
    "        The annualized risk-free interest rate, continuously compounded.\n",
    "    q: scalar\n",
    "        The annualized continuous dividend yield.\n",
    "    ts: array_like\n",
    "        The time steps of the simualtion\n",
    "    npaths: int\n",
    "        the number of paths to simulate\n",
    "\n",
    "    Returns\n",
    "    -------\n",
    "    paths: ndarray\n",
    "        The Monte-Carlo paths.\n",
    "    \"\"\"\n",
    "    nsteps = len(ts) - 1\n",
    "    ts = np.asfarray(ts)[:, np.newaxis]\n",
    "    W = np.cumsum(np.vstack((np.zeros((1, npaths), dtype=np.float),\n",
    "                             np.random.randn(nsteps, npaths) * np.sqrt(np.diff(ts, axis=0)))),\n",
    "                  axis=0)\n",
    "    paths = np.exp(-0.5*vol**2*ts + vol*W)*S*np.exp((r-q)*ts)\n",
    "    return paths\n",
    "\n",
    "\n",
    "def blackscholes_price(K, T, S, vol, r=0, q=0, callput='call'):\n",
    "    \"\"\"Compute the call/put option price in the Black-Scholes model\n",
    "    \n",
    "    Parameters\n",
    "    ----------\n",
    "    K: scalar or array_like\n",
    "        The strike of the option.\n",
    "    T: scalar or array_like\n",
    "        The maturity of the option, expressed in years (e.g. 0.25 for 3-month and 2 for 2 years)\n",
    "    S: scalar or array_like\n",
    "        The current price of the underlying asset.\n",
    "    vol: scalar or array_like\n",
    "        The implied Black-Scholes volatility.\n",
    "    r: scalar or array_like\n",
    "        The annualized risk-free interest rate, continuously compounded.\n",
    "    q: scalar or array_like\n",
    "        The annualized continuous dividend yield.\n",
    "    callput: str\n",
    "        Must be either 'call' or 'put'.\n",
    "\n",
    "    Returns\n",
    "    -------\n",
    "    price: scalar or array_like\n",
    "        The price of the option.\n",
    "\n",
    "    Examples\n",
    "    --------\n",
    "    >>> blackscholes_price(95, 0.25, 100, 0.2, r=0.05, callput='put')\n",
    "    1.5342604771222823\n",
    "    \"\"\"\n",
    "    F = S*np.exp((r-q)*T)\n",
    "    v = np.sqrt(vol**2*T)\n",
    "    d1 = np.log(F/K)/v + 0.5*v\n",
    "    d2 = d1 - v\n",
    "    try:\n",
    "        opttype = {'call':1, 'put':-1}[callput.lower()]\n",
    "    except:\n",
    "        raise ValueError('The value of callput must be either \"call\" or \"put\".')\n",
    "    price = opttype*(F*norm.cdf(opttype*d1)-K*norm.cdf(opttype*d2))*np.exp(-r*T)\n",
    "    return price"
   ]
  },
  {
   "cell_type": "markdown",
   "metadata": {},
   "source": [
    "As a demonstration, we show below the code that calculates the upper bound estimate of the price of Bermudan put with monthly exercises as in the example. The optimal exercise frontier is given for each exercise date (from a PDE solver), i.e. if the underlying price falls below Bs[i] at time ts[i], then we should exercise the option, otherwise we should continue."
   ]
  },
  {
   "cell_type": "code",
   "execution_count": 3,
   "metadata": {},
   "outputs": [],
   "source": [
    "Bs = np.array([ 87.52900166,  87.80954309,  88.09098369,  88.37332635, 88.72752759,  89.1544435 ,  89.61925406,  90.19465661, 90.88274744,  91.75942312,  92.97867688,  94.85697075, 100.])\n",
    "\n",
    "def exer_or_cont(i, S):\n",
    "    return S <= Bs[i]"
   ]
  },
  {
   "cell_type": "code",
   "execution_count": 4,
   "metadata": {},
   "outputs": [
    {
     "name": "stdout",
     "output_type": "stream",
     "text": [
      "Primal Price (Lower Bound) = 5.1408\n",
      "Dual Price   (Upper Bound) = 5.1474\n"
     ]
    }
   ],
   "source": [
    "S0, K, vol, r, q = 100, 100, 0.2, 0.1, 0.02\n",
    "ts = np.linspace(0, 1, 13)\n",
    "exer_func = lambda S: np.maximum(K-S, 0)\n",
    "\n",
    "# nested simulation from time t_i when stock price is S\n",
    "def nested_mc(S, vol, r, q, i, ts, nnested):\n",
    "    nested_paths = np.full(nnested, S, dtype=np.float)\n",
    "    tot_payoff = 0\n",
    "    for j in range(i+1, len(ts)):\n",
    "        dt = ts[j] - ts[j-1]\n",
    "        dW = np.random.randn(len(nested_paths))*np.sqrt(dt)        # Brownian increment\n",
    "        nested_paths = nested_paths*np.exp((r-q)*dt)*np.exp(-0.5*vol**2*dt + vol*dW)\n",
    "        exer_vals =  exer_func(nested_paths)\n",
    "        if j < len(ts)-1:\n",
    "            ind = exer_or_cont(j, nested_paths)                    # identify the paths that need exercise\n",
    "            tot_payoff += np.sum(exer_vals[ind])*np.exp(-r*ts[j])\n",
    "            nested_paths = nested_paths[~ind]                      # remove exercised paths \n",
    "            if len(nested_paths) == 0:                             # if exercised for all paths, stop\n",
    "                break\n",
    "        else:\n",
    "            tot_payoff +=  np.sum(exer_vals)*np.exp(-r*ts[j])\n",
    "    return tot_payoff/nnested                                      # taking average of paths\n",
    "\n",
    "# Simulate independent paths and exercise the option acoording to this strategy\n",
    "V0 = nested_mc(S0, vol, r, q, 0, ts, 1000000)                      \n",
    "\n",
    "# Upper bound by Andersen-Broadie algorithm\n",
    "npaths = 500                                                       # number of paths in the second independent run\n",
    "nnested = 1000                                                     # number of paths used in nested simulation\n",
    "\n",
    "\n",
    "paths = blackscholes_mc(S=S0, vol=vol, r=r, q=q, ts=ts, npaths=npaths)\n",
    "V = np.full(paths.shape, np.nan, dtype=np.float)                   # discounted value process V_i (discounted to time zero)\n",
    "EV = np.full(paths.shape, np.nan, dtype=np.float)                  # Conditional expectation E[V_{i+1}|F_i], or continuation value\n",
    "V[0] = V0                                                          # Initial value from lower bound simulation\n",
    "EV[0] = V0                                                         # at time 0, option value = continuation value\n",
    "for i in range(1, len(ts)-1):\n",
    "    exer_vals =  exer_func(paths[i])          \n",
    "    ind = exer_or_cont(i, paths[i])                                # True for exercise False for continue\n",
    "    for j in range(npaths):\n",
    "        if exer_or_cont(i, paths[i][j]):\n",
    "            V[i, j] = exer_vals[j]*np.exp(-r*ts[i])                     # if exercised, V[i,j] = exercise value\n",
    "            EV[i,j] = nested_mc(paths[i, j], vol, r, q, i, ts, nnested) # launch nested simulation to estimate E[V_{i+1}|F_i]\n",
    "        else:\n",
    "            V[i,j] = nested_mc(paths[i, j], vol, r, q, i, ts, nnested)  # if continue, use nested simulation to estimate V[i, j]\n",
    "            EV[i, j] = V[i, j]                                          # E[V_{i+1}|F_i] = V_i\n",
    "V[-1] = exer_func(paths[-1])*np.exp(-r*ts[-1])                     # values at final maturity\n",
    "hedges = np.zeros(paths.shape, dtype=np.float)\n",
    "hedges[1:] = np.cumsum(V[1:]-EV[:-1], axis=0)                      # martinglae increment V_{i+1}-E[V_{i+1}|F_i]\n",
    "\n",
    "print('Primal Price (Lower Bound) = {:.4f}'.format(V0))\n",
    "print('Dual Price   (Upper Bound) = {:.4f}'.format(np.mean(np.amax(exer_func(paths[1:])*np.exp(-r*ts[1:, np.newaxis])-hedges[1:], axis=0))))"
   ]
  },
  {
   "cell_type": "markdown",
   "metadata": {},
   "source": [
    "Since the strategy is optimal, we see that both lower bound and upper bound prices converge to the true value. \n",
    "\n",
    "However, in general, we may only get a sub-optimal strategy (e.g. from Longstaff-Schwartz algorithm). But with this sub-optimal strategy, we can build the (discounted) value process and then extract its martingale component to obtain an upper bound. Intuitively speaking, the closer this sub-optimal strategy is to the optimal one, the tighter the corresponding upper bound."
   ]
  },
  {
   "cell_type": "markdown",
   "metadata": {},
   "source": [
    "----------------------------------------------------------------------------------------------------------------------------"
   ]
  },
  {
   "cell_type": "markdown",
   "metadata": {},
   "source": [
    "$M_t\\equiv0$.\n"
   ]
  },
  {
   "cell_type": "code",
   "execution_count": 5,
   "metadata": {},
   "outputs": [
    {
     "name": "stdout",
     "output_type": "stream",
     "text": [
      "Primal Price (Lower Bound) = 5.1408\n",
      "Dual Price   (Upper Bound) = 8.5835\n"
     ]
    }
   ],
   "source": [
    "paths = blackscholes_mc(S=S0, vol=vol, r=r, q=q, ts=ts, npaths=100000)\n",
    "hedges = np.zeros(paths.shape, dtype=np.float)\n",
    "print('Primal Price (Lower Bound) = {:.4f}'.format(V0))\n",
    "print('Dual Price   (Upper Bound) = {:.4f}'.format(np.mean(np.amax(exer_func(paths[1:])*np.exp(-r*ts[1:, np.newaxis])-hedges[1:], axis=0))))"
   ]
  },
  {
   "cell_type": "markdown",
   "metadata": {},
   "source": [
    "$M_t$ is the discounted European put price with the same final maturity less the initial price."
   ]
  },
  {
   "cell_type": "code",
   "execution_count": 6,
   "metadata": {},
   "outputs": [
    {
     "name": "stdout",
     "output_type": "stream",
     "text": [
      "Primal Price (Lower Bound) = 5.1408\n",
      "Dual Price   (Upper Bound) = 5.3466\n"
     ]
    }
   ],
   "source": [
    "hedges = [ blackscholes_price(K, ts[-1]-ts[i],paths[i],vol,r, q,'put')*np.exp(-ts[i]*r) for i in range(len(ts))]\n",
    "hedges = [hedges[i]-hedges[0] for i in range(len(hedges))]\n",
    "print('Primal Price (Lower Bound) = {:.4f}'.format(V0))\n",
    "print('Dual Price   (Upper Bound) = {:.4f}'.format(np.mean(np.amax(exer_func(paths[1:])*np.exp(-r*ts[1:, np.newaxis])-hedges[1:], axis=0))))"
   ]
  },
  {
   "cell_type": "markdown",
   "metadata": {},
   "source": [
    "The upper bounds are inline with our expectation because we see that when the position is unhedged we will have a higher upperbound as compared to the case when the position is hedged"
   ]
  },
  {
   "cell_type": "markdown",
   "metadata": {},
   "source": [
    "<b style=\"color:darkorange\">Example 2 :</b> Consider pricing the Bermudan put option as previous example by using the constant $1.0$ and the Black-Scholes price of a European put option with volatility $0.2$ and maturity $T-t_n$ as the two basis functions at time $t_n$. We use the Longstaff-Schwartz algorithm to build an exercise strategy with these basis functions and then use the Broadie-Andersen algorithm to compute the corresponding upper bound.\n"
   ]
  },
  {
   "cell_type": "code",
   "execution_count": 7,
   "metadata": {},
   "outputs": [
    {
     "name": "stdout",
     "output_type": "stream",
     "text": [
      "Estimates : [[        nan         nan]\n",
      " [-0.49208962  1.30361804]\n",
      " [-0.55495172  1.30597871]\n",
      " [-0.47764151  1.2833809 ]\n",
      " [-0.36527465  1.24711654]\n",
      " [-0.315787    1.21733515]\n",
      " [-0.16702099  1.15196147]\n",
      " [-0.13433194  1.13849548]\n",
      " [-0.03690334  1.0974072 ]\n",
      " [-0.02028372  1.07279482]\n",
      " [ 0.02139218  1.0431469 ]\n",
      " [ 0.00274591  1.00265275]\n",
      " [        nan         nan]]\n"
     ]
    }
   ],
   "source": [
    "## Longstaff-Schwartz Algorithm \n",
    "S0, K, vol, r, q = 100, 100, 0.2, 0.1, 0.02\n",
    "ts = np.linspace(0, 1, 13)\n",
    "npaths = 10000\n",
    "paths = blackscholes_mc(S=S0, vol=vol, r=r, q=q, ts=ts, npaths=npaths)\n",
    "betas_LS = np.full((len(ts), 2), np.nan, dtype=np.float)\n",
    "payoff = np.maximum(K-paths[-1], 0)\n",
    "for i in range(len(ts)-2, 0, -1):\n",
    "    discount = np.exp(-r*(ts[i+1]-ts[i]))\n",
    "    payoff = payoff*discount\n",
    "    Z = blackscholes_price(K, ts[-1]-ts[i], paths[i], vol, r, q, callput='put')\n",
    "    A = np.vstack((np.ones_like(Z), Z)).T\n",
    "    betas_LS[i] = np.linalg.lstsq(A, payoff, rcond=None)[0]    # regression to estimate continuation values\n",
    "    contval = betas_LS[i, 0]+betas_LS[i, 1]*Z\n",
    "    exerval = np.maximum(K-paths[i], 0)\n",
    "    # identify the paths where we should exercise\n",
    "    ind = exerval > contval\n",
    "    payoff[ind] = exerval[ind]                     # update payoff on exercised paths\n",
    "print(\"Estimates :\",betas_LS)                                           # No regression needed at first and last time steps, return NaN\n",
    "\n",
    "V0 = nested_mc(S0,vol, r, q, 0, ts, 1000000)\n"
   ]
  },
  {
   "cell_type": "markdown",
   "metadata": {},
   "source": [
    "We now define a new function now to make exercise decision (Longstaff-Schwartz algorithm) "
   ]
  },
  {
   "cell_type": "code",
   "execution_count": 8,
   "metadata": {},
   "outputs": [],
   "source": [
    "def exer_or_cont_LS(i,S,K,Z,beta):\n",
    "    contval = beta[i,0] + beta[i,1]*Z\n",
    "    exerval = np.maximum(K-S,0) \n",
    "    return  exerval >= contval\n",
    "\n",
    "# nested simulation from time t_i when stock price is S\n",
    "def nested_mc(S, vol, r, q, i, ts, nnested):          # new nested_mc that uses estimated values for exercise decision\n",
    "    nested_paths = np.full(nnested, S, dtype=np.float)\n",
    "    tot_payoff = 0\n",
    "    for j in range(i+1, len(ts)):\n",
    "        dt = ts[j] - ts[j-1]\n",
    "        dW = np.random.randn(len(nested_paths))*np.sqrt(dt)        # Brownian increment\n",
    "        nested_paths = nested_paths*np.exp((r-q)*dt)*np.exp(-0.5*vol**2*dt + vol*dW)\n",
    "        Z = blackscholes_price(K, ts[-1]-ts[i], nested_paths, vol, r, q, callput='put')\n",
    "        exer_vals =  exer_func(nested_paths)\n",
    "        if j < len(ts)-1:\n",
    "            ind = exer_or_cont_LS(j, nested_paths,K,Z,betas_LS)                    # identify the paths that need exercise\n",
    "            tot_payoff += np.sum(exer_vals[ind])*np.exp(-r*ts[j])\n",
    "            nested_paths = nested_paths[~ind]                      # remove exercised paths \n",
    "            if len(nested_paths) == 0:                             # if exercised for all paths, stop\n",
    "                break\n",
    "        else:\n",
    "            tot_payoff +=  np.sum(exer_vals)*np.exp(-r*ts[j])\n",
    "    return tot_payoff/nnested                                      # taking average of paths"
   ]
  },
  {
   "cell_type": "code",
   "execution_count": 9,
   "metadata": {},
   "outputs": [
    {
     "name": "stdout",
     "output_type": "stream",
     "text": [
      "Primal Price (Lower Bound) = 5.1436\n",
      "Dual Price   (Upper Bound) = 5.1762\n"
     ]
    }
   ],
   "source": [
    "# Upper bound by Andersen-Broadie algorithm\n",
    "npaths = 500                                                       # number of paths in the second independent run\n",
    "nnested = 1000                                                     # number of paths used in nested simulation\n",
    "paths = blackscholes_mc(S=S0, vol=vol, r=r, q=q, ts=ts, npaths=npaths)\n",
    "V = np.full(paths.shape, np.nan, dtype=np.float)                   # discounted value process V_i (discounted to time zero)\n",
    "EV = np.full(paths.shape, np.nan, dtype=np.float)                  # Conditional expectation E[V_{i+1}|F_i], or continuation value\n",
    "V[0] = V0                                                          # Initial value from lower bound simulation\n",
    "EV[0] = V0                                                         # at time 0, option value = continuation value\n",
    "for i in range(1, len(ts)-1):\n",
    "    exer_vals =  exer_func(paths[i]) \n",
    "    Z = blackscholes_price(K, ts[-1]-ts[i], paths[i], vol, r, q, callput='put')\n",
    "    ind = exer_or_cont_LS(i,paths[i],K,Z,betas_LS)                                # True for exercise False for continue\n",
    "    for j in range(npaths):\n",
    "        if exer_or_cont_LS(i,paths[i][j],K,Z[j],betas_LS):\n",
    "            V[i, j] = exer_vals[j]*np.exp(-r*ts[i])                     # if exercised, V[i,j] = exercise value\n",
    "            EV[i,j] = nested_mc(paths[i, j], vol, r, q, i, ts, nnested) # launch nested simulation to estimate E[V_{i+1}|F_i]\n",
    "        else:\n",
    "            V[i,j] = nested_mc(paths[i, j], vol, r, q, i, ts, nnested)  # if continue, use nested simulation to estimate V[i, j]\n",
    "            EV[i, j] = V[i, j]                                          # E[V_{i+1}|F_i] = V_i\n",
    "V[-1] = exer_func(paths[-1])*np.exp(-r*ts[-1])                     # values at final maturity\n",
    "hedges = np.zeros(paths.shape, dtype=np.float)\n",
    "hedges[1:] = np.cumsum(V[1:]-EV[:-1], axis=0)                      # martinglae increment V_{i+1}-E[V_{i+1}|F_i]\n",
    "\n",
    "print('Primal Price (Lower Bound) = {:.4f}'.format(V0))\n",
    "print('Dual Price   (Upper Bound) = {:.4f}'.format(np.mean(np.amax(exer_func(paths[1:])*np.exp(-r*ts[1:, np.newaxis])-hedges[1:], axis=0))))"
   ]
  },
  {
   "cell_type": "markdown",
   "metadata": {},
   "source": [
    "<b style=\"color:darkorange\">Example 3 :</b> <b>(An alternative algorithm to estimate the upper bound)</b> The primal algorithm (Longstaff-Schwartz or Tsitsiklis-Van Roy) provides a function approximation (via regression) of the continuation value $C_n$ at $t_n$, hence of the value function $V_n = \\max(C_n,F_n)$ where $F_n$ is the exercise value. We can use this functional approximation of the value function to write an alternative algorithm in order to estimate the upper bound: at each time $t_n$, use the functional approximation of $V_n$, and run the nested simulation to estimate the conditional expectation $\\mathbb{E}\\left[V_{n+1}\\big|\\mathcal{F}_n\\right]$ (using the functional approximation of $V_{n+1}$). Note that this nested simulation only needs to be run for one time step.\n",
    "\n",
    "For the same Bermudan put option and same basis functions, we use TVR algorithm to build the value process and then extract its martingale component using the alternative algorithm explained above to estimate the upper bound price.\n"
   ]
  },
  {
   "cell_type": "code",
   "execution_count": 10,
   "metadata": {},
   "outputs": [
    {
     "name": "stdout",
     "output_type": "stream",
     "text": [
      "[[        nan         nan]\n",
      " [-0.46564688  1.3160679 ]\n",
      " [-0.38767136  1.29401702]\n",
      " [-0.31683182  1.26878016]\n",
      " [-0.23145839  1.2340282 ]\n",
      " [-0.16752664  1.20323228]\n",
      " [-0.10875014  1.16465352]\n",
      " [-0.04808141  1.12914112]\n",
      " [-0.01907371  1.09760004]\n",
      " [ 0.01803298  1.06180154]\n",
      " [ 0.01563988  1.03028454]\n",
      " [ 0.00214919  0.99894957]\n",
      " [        nan         nan]]\n"
     ]
    }
   ],
   "source": [
    "S0, K, vol, r, q = 100, 100, 0.2, 0.1, 0.02\n",
    "ts = np.linspace(0, 1, 13)\n",
    "\n",
    "npaths = 100000\n",
    "paths = blackscholes_mc(S=S0, vol=vol, r=r, q=q, ts=ts, npaths=npaths)\n",
    "betas_TVR = np.full((len(ts), 2), np.nan, dtype=np.float)\n",
    "V = np.maximum(K-paths[-1], 0)\n",
    "for i in range(len(ts)-2, 0, -1):\n",
    "    discount = np.exp(-r*(ts[i+1]-ts[i]))\n",
    "    Z = blackscholes_price(K, ts[-1]-ts[i], paths[i], vol, r, q, callput='put')\n",
    "    A = np.vstack((np.ones_like(Z), Z)).T\n",
    "    betas_TVR[i] = np.linalg.lstsq(A, V*discount, rcond=None)[0]      # regression to estimate continuation values\n",
    "    contval = betas_TVR[i, 0]+betas_TVR[i, 1]*Z\n",
    "    exerval = np.maximum(K-paths[i], 0)\n",
    "    V = np.maximum(exerval, contval)                      # compute values\n",
    "print(betas_TVR)                                                 # No regression needed at first and last time steps, return NaN\n",
    "\n",
    "V0 = np.mean(V)*np.exp(-r*(ts[1]-ts[0]))\n"
   ]
  },
  {
   "cell_type": "code",
   "execution_count": 11,
   "metadata": {},
   "outputs": [
    {
     "name": "stdout",
     "output_type": "stream",
     "text": [
      "Dual Price   (Upper Bound) = 5.1663\n"
     ]
    }
   ],
   "source": [
    "def nested_mc_TVR(S, vol, r, q, i, ts, nnested,beta) :\n",
    "    nested_paths = np.full(nnested, S, dtype=np.float)\n",
    "    dt = ts[i+1]-ts[i]\n",
    "    dW = np.random.randn(len(nested_paths))*np.sqrt(dt)\n",
    "    nested_paths = nested_paths*np.exp((r-q)*dt)*np.exp(-0.5*vol**2*dt + vol*dW)\n",
    "    Z = blackscholes_price(K, ts[-1]-ts[i+1], nested_paths, vol, r, q, callput='put')\n",
    "    exerval = np.maximum(K-nested_paths, 0)\n",
    "    if i==(len(ts)-2) :\n",
    "        return np.mean(exerval)*np.exp(-r*ts[i+1])\n",
    "    else :\n",
    "        contval = beta[i+1,0]+beta[i+1,1]*Z\n",
    "        V = np.maximum(exerval, contval)\n",
    "        return np.mean(V)*np.exp(-r*ts[i+1])\n",
    "    \n",
    "\n",
    "# Upper bound by Andersen-Broadie algorithm\n",
    "npaths = 500                                                       # number of paths in the second independent run\n",
    "nnested = 1000   \n",
    "\n",
    "# number of paths used in nested simulation\n",
    "paths = blackscholes_mc(S=S0, vol=vol, r=r, q=q, ts=ts, npaths=npaths)\n",
    "V = np.full(paths.shape, np.nan, dtype=np.float)                   # discounted value process V_i (discounted to time zero)\n",
    "EV = np.full(paths.shape, np.nan, dtype=np.float)                  # Conditional expectation E[V_{i+1}|F_i], or continuation value\n",
    "V[0] = V0                                                          # Initial value from lower bound simulation\n",
    "EV[0] = V0                                                         # at time 0, option value = continuation value\n",
    "for i in range(1, len(ts)-1):\n",
    "    Z = blackscholes_price(K, ts[-1]-ts[i], paths[i], vol, r, q, callput='put')\n",
    "    for j in range(npaths):\n",
    "        exerval,contval = np.maximum(K-paths[i,j],0) , betas_TVR[i, 0]+betas_TVR[i, 1]*Z[j] ## Using Estimates\n",
    "        V[i, j] = np.maximum(exerval,contval)*np.exp(-r*ts[i])             ## Taking V[i,j] from estimates       \n",
    "        EV[i,j] = nested_mc_TVR(paths[i, j], vol, r, q, i, ts, nnested,betas_TVR) # launch nested simulation to estimate E[V_{i+1}|F_i]\n",
    "\n",
    "        \n",
    "V[-1] = exer_func(paths[-1])*np.exp(-r*ts[-1])                     # values at final maturity\n",
    "hedges = np.zeros(paths.shape, dtype=np.float)\n",
    "hedges[1:] = np.cumsum(V[1:]-EV[:-1], axis=0)                      # martinglae increment V_{i+1}-E[V_{i+1}|F_i]\n",
    "\n",
    "print('Dual Price   (Upper Bound) = {:.4f}'.format(np.mean(np.amax(exer_func(paths[1:])*np.exp(-r*ts[1:, np.newaxis])-hedges[1:], axis=0))))"
   ]
  },
  {
   "cell_type": "markdown",
   "metadata": {},
   "source": [
    "---"
   ]
  },
  {
   "cell_type": "markdown",
   "metadata": {},
   "source": [
    "The upper bound estimator can be used to check if the basis functions used in regression are adequate. A tight duality gap between the lower bound and upper bound is a confirmation that the linear span of the selected basis functions indeed gives a good approximation to the continuation value. We now illustrate this with the pricing of Bermudan-Asian call options.\n",
    "\n",
    "<b style=\"color:darkorange\">Example 4 : </b> (<b>Bermudan-Asian Call Option</b>). In previous notebook, we priced a Bermudan-Asian call option using a particular set of basis functions. Assume that all the parameters stay the same."
   ]
  },
  {
   "cell_type": "markdown",
   "metadata": {},
   "source": [
    "<b>(a).</b> We reuse the exercise strategy derived from the basis functions used in previous notebook by Longstaff-Schwartz with $\\bar{\\sigma}=0.1$ to estimate the lower and upper bound."
   ]
  },
  {
   "cell_type": "code",
   "execution_count": 12,
   "metadata": {},
   "outputs": [
    {
     "data": {
      "text/plain": [
       "array([[        nan,         nan],\n",
       "       [ 0.24206701,  1.13272417],\n",
       "       [-0.03384112,  1.11121262],\n",
       "       [-0.19546972,  1.08942779],\n",
       "       [-0.28952533,  1.07278118],\n",
       "       [-0.35945773,  1.06053357],\n",
       "       [-0.38594565,  1.0505587 ],\n",
       "       [-0.39300888,  1.04156245],\n",
       "       [-0.37079416,  1.03424445],\n",
       "       [-0.32240829,  1.02564166],\n",
       "       [-0.25505935,  1.01730625],\n",
       "       [-0.16921958,  1.00809988],\n",
       "       [        nan,         nan]])"
      ]
     },
     "execution_count": 12,
     "metadata": {},
     "output_type": "execute_result"
    }
   ],
   "source": [
    "# Longstaff-Schwartz\n",
    "S0, K, vol, r, q = 100, 100, 0.2, 0, 0\n",
    "ts = np.linspace(0, 1, 13)\n",
    "npaths = 100000\n",
    "pathsS = blackscholes_mc(S0, vol, r, q, ts=ts, npaths=npaths)                                  # stock prices\n",
    "pathsA = np.vstack((pathsS[0], np.cumsum(pathsS[1:], axis=0)/np.arange(1, 13)[:, np.newaxis])) # running averages\n",
    "vol_ = 0.1\n",
    "payoff = np.maximum(pathsA[-1]-K, 0)\n",
    "betas_AC = np.full((len(ts), 2), np.nan, dtype=np.float64)\n",
    "for i in range(len(ts)-2, 0, -1):\n",
    "    discount = np.exp(-r*(ts[i+1]-ts[i]))\n",
    "    payoff = payoff*discount\n",
    "    Z = (i*pathsA[i]+(12-i)*pathsS[i])/12\n",
    "    callZ = blackscholes_price(K, ts[-1]-ts[i], Z, vol_, callput='call')\n",
    "    A = np.vstack((np.ones_like(Z), callZ)).T\n",
    "    betas_AC[i] = np.linalg.lstsq(A, payoff, rcond=None)[0]           # regression to estimate continuation values\n",
    "    contval = betas_AC[i, 0]+betas_AC[i, 1]*callZ\n",
    "    exerval = np.maximum(pathsA[i]-K, 0)\n",
    "    ind = exerval > contval                               # identify the paths where we should exercise\n",
    "    payoff[ind] = exerval[ind]\n",
    "#np.mean(payoff * np.exp(-r * (ts[1] - ts[0])))\n",
    "betas_AC # no need to estimate continuation values at the first date (not an exercise date) or the last date (always exercise)"
   ]
  },
  {
   "cell_type": "code",
   "execution_count": 15,
   "metadata": {},
   "outputs": [],
   "source": [
    "def exer_or_cont_BA(i,A,K,Z,beta):\n",
    "    contval = beta[i,0] + beta[i,1]*Z\n",
    "    exerval = np.maximum(A-K,0) \n",
    "    return  exerval >= contval\n",
    "\n",
    "exer_func_call= lambda S: np.maximum(S-K, 0)"
   ]
  },
  {
   "cell_type": "code",
   "execution_count": 16,
   "metadata": {},
   "outputs": [
    {
     "name": "stdout",
     "output_type": "stream",
     "text": [
      "Primal Price (Lower Bound) = 5.3147\n",
      "Dual Price   (Upper Bound) = 5.4069\n"
     ]
    }
   ],
   "source": [
    "def nested_mc_BA(S,A,vol, r, q, i, ts, nnested,betas_AC):\n",
    "    nested_paths = np.full(nnested, S, dtype=np.float)\n",
    "    nested_A     = A\n",
    "    tot_payoff = 0\n",
    "    for j in range(i+1, len(ts)):\n",
    "        dt = ts[j] - ts[j-1]\n",
    "        dW = np.random.randn(len(nested_paths))*np.sqrt(dt)        # Brownian increment\n",
    "        nested_paths = nested_paths*np.exp((r-q)*dt)*np.exp(-0.5*vol**2*dt + vol*dW)\n",
    "        nested_A     = (nested_A*(j-1)+nested_paths)/j\n",
    "        Z            = (j*nested_A+(12-j)*nested_paths)/12\n",
    "        exer_vals =  exer_func_call(nested_A)\n",
    "        if j < len(ts)-1:\n",
    "            bs_call = blackscholes_price(K, ts[-1]-ts[j], S=Z,vol=vol_, callput='call')\n",
    "            ind = exer_or_cont_BA(j,nested_A,K,bs_call,betas_AC)                    # identify the paths that need exercise\n",
    "            tot_payoff += np.sum(exer_vals[ind])*np.exp(-r*ts[j])\n",
    "            nested_A = nested_A[~ind]\n",
    "            nested_paths = nested_paths[~ind]                      # remove exercised paths \n",
    "            if len(nested_paths) == 0:                             # if exercised for all paths, stop\n",
    "                break\n",
    "        else:\n",
    "            tot_payoff +=  np.sum(exer_vals)*np.exp(-r*ts[j])\n",
    "    return tot_payoff/nnested                                      # taking average of paths\n",
    "\n",
    "\n",
    "V0 = nested_mc_BA(S0,S0, vol, r, q, 0, ts, 1000000, betas_AC) \n",
    "\n",
    "\n",
    "npaths = 500                                                       # number of paths in the second independent run\n",
    "nnested = 1000                                                     # number of paths used in nested simulation\n",
    "paths = blackscholes_mc(S=S0, vol=vol, r=r, q=q, ts=ts, npaths=npaths)\n",
    "V = np.full(paths.shape, np.nan, dtype=np.float64)                 # discounted value process V_i (discounted to time zero)\n",
    "EV = np.full(paths.shape, np.nan, dtype=np.float64)                # Conditional expectation E[V_{i+1}|F_i], or continuation value\n",
    "V[0] = V0                                                          # Initial value from lower bound simulation\n",
    "EV[0] = V0  # at time 0, option value = continuation value\n",
    "\n",
    "paths_A = np.vstack((paths[0], np.cumsum(paths[1:], axis=0)/np.arange(1, 13)[:, np.newaxis])) # running averages\n",
    "\n",
    "for i in range(1, len(ts)-1):\n",
    "    exer_vals =  exer_func_call(paths_A[i]) \n",
    "    Z=(i*paths_A[i]+(12-i)*paths[i])/12\n",
    "    bs_call = blackscholes_price(K, ts[-1]-ts[i], Z, vol_, callput='call')\n",
    "    for j in range(npaths):\n",
    "        if exer_or_cont_BA(i, paths_A[i, j], K,bs_call[j], betas_AC):\n",
    "            V[i, j] = exer_vals[j]*np.exp(-r*ts[i])                     # if exercised, V[i,j] = exercise value\n",
    "            EV[i,j] = nested_mc_BA(paths[i, j], paths_A[i, j], vol, r, q, i, ts, nnested, betas_AC) # launch nested simulation to estimate E[V_{i+1}|F_i]\n",
    "        else:\n",
    "            V[i,j] = nested_mc_BA(paths[i, j], paths_A[i, j], vol, r, q, i, ts, nnested, betas_AC)  # if continue, use nested simulation to estimate V[i, j]\n",
    "            EV[i, j] = V[i, j]                                          # E[V_{i+1}|F_i] = V_i\n",
    "V[-1] = exer_func_call(paths_A[-1])*np.exp(-r*ts[-1])                         # values at final maturity\n",
    "hedges = np.zeros(paths.shape, dtype=np.float64)\n",
    "hedges[1:] = np.cumsum(V[1:]-EV[:-1], axis=0)\n",
    "\n",
    "upper_bound = np.mean(np.amax(exer_func_call(paths_A[1:])*np.exp(-r*ts[1:, np.newaxis])-hedges[1:], axis=0))\n",
    "\n",
    "print('Primal Price (Lower Bound) = {:.4f}'.format(V0))\n",
    "print('Dual Price   (Upper Bound) = {:.4f}'.format(upper_bound))\n",
    "\n",
    "duality_gap = upper_bound - V0"
   ]
  },
  {
   "cell_type": "markdown",
   "metadata": {},
   "source": [
    "<b>(b).</b> As an alternative set of basis functions at time $t_n$, we use \n",
    "$$1, A_{t_n}, S_{t_n}, A_{t_n}^2, S_{t_n}^2, A_{t_n}S_{t_n}.$$\n",
    "in the Longstaff-Schwartz algorithm and then give the corresponding lower bound and upper bound."
   ]
  },
  {
   "cell_type": "code",
   "execution_count": 17,
   "metadata": {},
   "outputs": [
    {
     "data": {
      "text/plain": [
       "array([[            nan,             nan,             nan,\n",
       "                    nan,             nan],\n",
       "       [ 1.14821679e+02, -1.35871360e+00, -1.35871360e+00,\n",
       "         8.06283441e-03,  8.06283371e-03],\n",
       "       [ 1.15952887e+02, -7.83230744e-01, -1.95672861e+00,\n",
       "         4.31519983e-03,  1.18800470e-02],\n",
       "       [ 1.16641293e+02, -9.80012391e-01, -1.77176890e+00,\n",
       "         5.46080855e-03,  1.07431910e-02],\n",
       "       [ 1.21321381e+02, -1.48218077e+00, -1.36552148e+00,\n",
       "         8.20794121e-03,  8.45927425e-03],\n",
       "       [ 1.17809726e+02, -1.56628376e+00, -1.21030707e+00,\n",
       "         8.77875142e-03,  7.50471245e-03],\n",
       "       [ 1.20404455e+02, -1.86719768e+00, -9.62564819e-01,\n",
       "         1.04796971e-02,  6.05619577e-03],\n",
       "       [ 1.20330577e+02, -2.07171787e+00, -7.57418356e-01,\n",
       "         1.17028576e-02,  4.81968956e-03],\n",
       "       [ 1.19705865e+02, -2.28110808e+00, -5.35365424e-01,\n",
       "         1.29487781e-02,  3.50229165e-03],\n",
       "       [ 1.18436017e+02, -2.44288969e+00, -3.48357146e-01,\n",
       "         1.39587427e-02,  2.36290713e-03],\n",
       "       [ 1.16191124e+02, -2.54590699e+00, -2.00504823e-01,\n",
       "         1.46748320e-02,  1.42140285e-03],\n",
       "       [ 1.13234507e+02, -2.61744197e+00, -7.04011191e-02,\n",
       "         1.52401167e-02,  5.68640315e-04],\n",
       "       [            nan,             nan,             nan,\n",
       "                    nan,             nan]])"
      ]
     },
     "execution_count": 17,
     "metadata": {},
     "output_type": "execute_result"
    }
   ],
   "source": [
    "# Longstaff-Schwartz\n",
    "S0, K, vol, r, q = 100, 100, 0.2, 0, 0\n",
    "ts = np.linspace(0, 1, 13)\n",
    "npaths = 100000\n",
    "pathsS = blackscholes_mc(S0, vol, r, q, ts=ts, npaths=npaths)                                  # stock prices\n",
    "pathsA = np.vstack((pathsS[0], np.cumsum(pathsS[1:], axis=0)/np.arange(1, 13)[:, np.newaxis])) # running averages\n",
    "vol_ = 0.1\n",
    "payoff = np.maximum(pathsA[-1]-K, 0)\n",
    "betas_AC = np.full((len(ts), 5), np.nan, dtype=np.float64)\n",
    "for i in range(len(ts)-2, 0, -1):\n",
    "    discount = np.exp(-r*(ts[i+1]-ts[i]))\n",
    "    payoff = payoff*discount\n",
    "    A = np.vstack((np.ones_like(pathsA[i]), pathsA[i],pathsS[i],pathsA[i]**2,pathsS[i]**2)).T  ## Using the New Basis \n",
    "    betas_AC[i] = np.linalg.lstsq(A, payoff, rcond=None)[0]           # regression to estimate continuation values\n",
    "    contval = betas_AC[i, 0]+betas_AC[i, 1]*callZ\n",
    "    exerval = np.maximum(pathsA[i]-K, 0)\n",
    "    ind = exerval > contval                               # identify the paths where we should exercise\n",
    "    payoff[ind] = exerval[ind]\n",
    "#np.mean(payoff * np.exp(-r * (ts[1] - ts[0])))\n",
    "betas_AC # no need to estimate continuation values at the first date (not an exercise date) or the last date (always exercise)"
   ]
  },
  {
   "cell_type": "code",
   "execution_count": 18,
   "metadata": {},
   "outputs": [],
   "source": [
    "def exer_or_cont_BA_call(i,A,K,Z,beta):\n",
    "    contval = sum([beta[i,m]*Z[m] for m in range(5)])\n",
    "    exerval = np.maximum(A-K,0) \n",
    "    return  exerval >= contval\n",
    "\n",
    "exer_func_call= lambda S: np.maximum(S-K, 0)"
   ]
  },
  {
   "cell_type": "code",
   "execution_count": 19,
   "metadata": {},
   "outputs": [
    {
     "name": "stdout",
     "output_type": "stream",
     "text": [
      "Primal Price (Lower Bound) = 5.0285\n",
      "Dual Price   (Upper Bound) = 5.4358\n"
     ]
    }
   ],
   "source": [
    "def nested_mc_BA(S,A,vol, r, q, i, ts, nnested,betas_AC):\n",
    "    nested_paths = np.full(nnested, S, dtype=np.float)\n",
    "    nested_A     = A\n",
    "    tot_payoff = 0\n",
    "    for j in range(i+1, len(ts)):\n",
    "        dt = ts[j] - ts[j-1]\n",
    "        dW = np.random.randn(len(nested_paths))*np.sqrt(dt)        # Brownian increment\n",
    "        nested_paths = nested_paths*np.exp((r-q)*dt)*np.exp(-0.5*vol**2*dt + vol*dW)\n",
    "        nested_A     = (nested_A*(j-1)+nested_paths)/j\n",
    "        Z            = np.vstack((np.ones_like(nested_paths), nested_A,nested_paths,nested_A**2,nested_paths**2)) # New Basis\n",
    "        exer_vals =  exer_func_call(nested_A)\n",
    "        if j < len(ts)-1:\n",
    "            ind = exer_or_cont_BA_call(j,nested_A,K,Z,betas_AC)                    # identify the paths that need exercise\n",
    "            tot_payoff += np.sum(exer_vals[ind])*np.exp(-r*ts[j])\n",
    "            nested_A = nested_A[~ind]\n",
    "            nested_paths = nested_paths[~ind]                      # remove exercised paths \n",
    "            if len(nested_paths) == 0:                             # if exercised for all paths, stop\n",
    "                break\n",
    "        else:\n",
    "            tot_payoff +=  np.sum(exer_vals)*np.exp(-r*ts[j])\n",
    "    return tot_payoff/nnested                                      # taking average of paths\n",
    "\n",
    "\n",
    "V0 = nested_mc_BA(S0,S0, vol, r, q, 0, ts, 1000000, betas_AC)  \n",
    "\n",
    "npaths = 500                                                       # number of paths in the second independent run\n",
    "nnested = 1000                                                     # number of paths used in nested simulation\n",
    "paths = blackscholes_mc(S=S0, vol=vol, r=r, q=q, ts=ts, npaths=npaths)\n",
    "V = np.full(paths.shape, np.nan, dtype=np.float64)                 # discounted value process V_i (discounted to time zero)\n",
    "EV = np.full(paths.shape, np.nan, dtype=np.float64)                # Conditional expectation E[V_{i+1}|F_i], or continuation value\n",
    "V[0] = V0                                                          # Initial value from lower bound simulation\n",
    "EV[0] = V0  # at time 0, option value = continuation value\n",
    "\n",
    "paths_A = np.vstack((paths[0], np.cumsum(paths[1:], axis=0)/np.arange(1, 13)[:, np.newaxis])) # running averages\n",
    "\n",
    "for i in range(1, len(ts)-1):\n",
    "    exer_vals =  exer_func_call(paths_A[i]) \n",
    "    Z=np.vstack((np.ones_like(paths[i]), paths_A[i],paths[i],paths_A[i]**2,paths[i]**2))\n",
    "    for j in range(npaths):\n",
    "        if exer_or_cont_BA_call(i, paths_A[i, j], K,Z[:,j], betas_AC):\n",
    "            V[i, j] = exer_vals[j]*np.exp(-r*ts[i])                     # if exercised, V[i,j] = exercise value\n",
    "            EV[i,j] = nested_mc_BA(paths[i, j], paths_A[i, j], vol, r, q, i, ts, nnested, betas_AC) # launch nested simulation to estimate E[V_{i+1}|F_i]\n",
    "        else:\n",
    "            V[i,j] = nested_mc_BA(paths[i, j], paths_A[i, j], vol, r, q, i, ts, nnested, betas_AC)  # if continue, use nested simulation to estimate V[i, j]\n",
    "            EV[i, j] = V[i, j]                                          # E[V_{i+1}|F_i] = V_i\n",
    "V[-1] = exer_func_call(paths_A[-1])*np.exp(-r*ts[-1])                         # values at final maturity\n",
    "hedges = np.zeros(paths.shape, dtype=np.float64)\n",
    "hedges[1:] = np.cumsum(V[1:]-EV[:-1], axis=0)\n",
    "\n",
    "upper_bound = np.mean(np.amax(exer_func_call(paths_A[1:])*np.exp(-r*ts[1:, np.newaxis])-hedges[1:], axis=0))\n",
    "\n",
    "print('Primal Price (Lower Bound) = {:.4f}'.format(V0))\n",
    "print('Dual Price   (Upper Bound) = {:.4f}'.format(upper_bound))\n",
    "\n",
    "duality_gab_newBasis = upper_bound-V0\n"
   ]
  },
  {
   "cell_type": "markdown",
   "metadata": {},
   "source": [
    "<b>(c).</b> We compare the numerical duality gaps obtained from (a) and (b)."
   ]
  },
  {
   "cell_type": "code",
   "execution_count": 21,
   "metadata": {
    "scrolled": true
   },
   "outputs": [
    {
     "name": "stdout",
     "output_type": "stream",
     "text": [
      "Daulity Gap in Part a : 0.09219424486599692\n",
      "Daulity Gap in Part b : 0.40731952987251496\n"
     ]
    }
   ],
   "source": [
    "print(\"Daulity Gap in Part a :\", duality_gap)\n",
    "print(\"Daulity Gap in Part b :\", duality_gab_newBasis)"
   ]
  },
  {
   "cell_type": "markdown",
   "metadata": {},
   "source": [
    "We observe that the part (a) gives us better results in terms of estimating the optimal exercise strategy because it has low duality gap "
   ]
  },
  {
   "cell_type": "markdown",
   "metadata": {},
   "source": [
    "---"
   ]
  },
  {
   "cell_type": "markdown",
   "metadata": {},
   "source": [
    "<b style=\"color:darkorange\">Example 5 : </b> (<b>Multiple Exercises</b>) Consider a chooser put option that allows its holder to exercise the option up to 3 times among 12 possible monthly exercise dates\n",
    "$t_1=\\frac{1}{12}, t_2=\\frac{2}{12}, \\cdots, t_{12}=1$.\n",
    "If exercised at time $t_i$, the option holder is paid $\\left(K-S_{t_i}\\right)^+$ with $K=100$. No repetitive exercise at the same exercise date is allowed.\n",
    "The underlying security price is assumed to follow the geometric Brownian motion\n",
    "\n",
    "$$\\frac{dS_t}{S_t}=(r-q)dt+\\sigma dW_t$$\n",
    "\n",
    "with $S_0=100$, $r=0.06$, $q=0.02$ and $\\sigma=0.2$. Note that the standard Bermudan put option can be viewed as a special chooser put option with only one exercise right. "
   ]
  },
  {
   "cell_type": "markdown",
   "metadata": {},
   "source": [
    "<b>(a)</b> We modify the Longstaff-Schwartz algorithm for Bermudan option to price this chooser option and use quadratic polynomial basis function in regression : \n",
    "<ul>\n",
    "<li> To improve the accuracy, the regression should be done only in the region where option is in the money\n",
    "<li> After we have obtained estimations of continuation values from the Longstaff-Schwartz algorithm, we also run an independent Monte Carlo simulation to obtain a low-biased price.\n",
    "</ul>"
   ]
  },
  {
   "cell_type": "code",
   "execution_count": 22,
   "metadata": {},
   "outputs": [
    {
     "name": "stdout",
     "output_type": "stream",
     "text": [
      "Option Value (Estimation from Same Path) : 18.043787861527253\n",
      "Polynomial Estimates : [[[            nan             nan             nan]\n",
      "  [ 1.34898083e-02 -3.10818970e+00  1.82019882e+02]\n",
      "  [ 1.41499514e-02 -3.24300766e+00  1.88672734e+02]\n",
      "  [ 1.33366802e-02 -3.10415237e+00  1.82636525e+02]\n",
      "  [ 1.21953975e-02 -2.90909023e+00  1.74205385e+02]\n",
      "  [ 1.08246721e-02 -2.68005339e+00  1.64587141e+02]\n",
      "  [ 9.84071035e-03 -2.52152279e+00  1.58166632e+02]\n",
      "  [ 8.63231547e-03 -2.32687991e+00  1.50288913e+02]\n",
      "  [ 7.36472392e-03 -2.12445841e+00  1.42199993e+02]\n",
      "  [ 6.30893182e-03 -1.96383622e+00  1.36112357e+02]\n",
      "  [ 5.03951945e-03 -1.77233094e+00  1.28959875e+02]\n",
      "  [ 3.33482393e-03 -1.51291924e+00  1.19207564e+02]\n",
      "  [            nan             nan             nan]]\n",
      "\n",
      " [[            nan             nan             nan]\n",
      "  [ 2.69658275e-02 -6.21657221e+00  3.63928757e+02]\n",
      "  [ 2.81751644e-02 -6.46782483e+00  3.76476930e+02]\n",
      "  [ 2.63293628e-02 -6.14957659e+00  3.62515432e+02]\n",
      "  [ 2.39021413e-02 -5.73395433e+00  3.44523891e+02]\n",
      "  [ 2.14568429e-02 -5.33131583e+00  3.27856913e+02]\n",
      "  [ 1.93897861e-02 -4.99561559e+00  3.14122781e+02]\n",
      "  [ 1.71301061e-02 -4.63509741e+00  2.99648930e+02]\n",
      "  [ 1.44805764e-02 -4.21397422e+00  2.82913834e+02]\n",
      "  [ 1.22686156e-02 -3.87968546e+00  2.70347831e+02]\n",
      "  [ 9.37145435e-03 -3.44138335e+00  2.53931496e+02]\n",
      "  [ 3.33482393e-03 -1.51291924e+00  1.19207564e+02]\n",
      "  [            nan             nan             nan]]\n",
      "\n",
      " [[            nan             nan             nan]\n",
      "  [ 4.08175173e-02 -9.40425127e+00  5.49699218e+02]\n",
      "  [ 4.22907505e-02 -9.71350731e+00  5.65156979e+02]\n",
      "  [ 3.89486906e-02 -9.13169864e+00  5.39453778e+02]\n",
      "  [ 3.55710267e-02 -8.55859445e+00  5.14832467e+02]\n",
      "  [ 3.18393432e-02 -7.94263878e+00  4.89242017e+02]\n",
      "  [ 2.85988837e-02 -7.41734203e+00  4.67788929e+02]\n",
      "  [ 2.53031384e-02 -6.89548208e+00  4.46980749e+02]\n",
      "  [ 2.12066225e-02 -6.24925752e+00  4.21514117e+02]\n",
      "  [ 1.75882721e-02 -5.70391777e+00  4.01075571e+02]\n",
      "  [ 9.37145435e-03 -3.44138335e+00  2.53931496e+02]\n",
      "  [ 3.33482393e-03 -1.51291924e+00  1.19207564e+02]\n",
      "  [            nan             nan             nan]]]\n"
     ]
    }
   ],
   "source": [
    "## Calculating the values for V3\n",
    "\n",
    "S0, K, vol, r, q = 100, 100, 0.2, 0.06, 0.02\n",
    "ts = np.linspace(0, 1, 13)\n",
    "npaths = 1000000\n",
    "paths = blackscholes_mc(S0, vol, r, q, ts, npaths)\n",
    "n_exer = 3\n",
    "\n",
    "V = np.full((n_exer+1, len(paths), len(paths[0])), 0, dtype=np.float64)  ## Creating matrix of option value \n",
    "V[0, :, :] = 0  # Value of the ption when 0 exercise opportunities left = 0\n",
    "V[1:, -1, :] = np.maximum(K - paths[-1], 0)  # Value of option when just one exercise left on the expiry is the exercise value\n",
    "CV = np.full((n_exer+1, len(paths), len(paths[0])), 0, dtype=np.float64) # Creating matrix of  continuation value\n",
    "CV[0, :, :] = 0  # Continuation value when no exercise left is 0 \n",
    "\n",
    "ind = np.full((n_exer, len(paths[0])), np.nan, dtype=bool) # matrix of decision indices across each path\n",
    "poly_fit = np.full((n_exer, len(paths), 3), np.nan)  # polynomial fits across each time \n",
    "\n",
    "for i in range(len(ts) - 2, 0, -1):                        # backward induction\n",
    "    idx = (paths[i] < K)\n",
    "    discount = np.exp(-r * (ts[i + 1] - ts[i]))\n",
    "    for exer_idx in range(n_exer):\n",
    "        poly_fit[exer_idx, i, :] = np.polyfit(paths[i][idx], V[exer_idx + 1, i + 1, idx], deg=2)\n",
    "        CV[exer_idx+1, i, :] = np.polyval(poly_fit[exer_idx, i, :], paths[i])\n",
    "        CV[exer_idx+1, i, ~idx] = CV[exer_idx+1, i + 1, ~idx] * discount\n",
    "    exerval = np.maximum(K - paths[i], 0)\n",
    "    for exer_idx in range(1, n_exer+1):\n",
    "        ind[exer_idx-1, :] = (exerval + CV[exer_idx-1, i, :]) > CV[exer_idx, i, :]\n",
    "        V[exer_idx, i, ind[exer_idx-1, :]] = V[exer_idx-1, i + 1, ind[exer_idx-1, :]] * discount + exerval[ind[exer_idx-1, :]]\n",
    "        V[exer_idx, i, ~ind[exer_idx-1, :]] = V[exer_idx, i + 1, ~ind[exer_idx-1, :]] * discount\n",
    "\n",
    "\n",
    "print(\"Option Value (Estimation from Same Path) :\",np.mean(V[n_exer, 1, :] * np.exp(-r * (ts[1] - ts[0]))))\n",
    "print(\"Polynomial Estimates :\",poly_fit)"
   ]
  },
  {
   "cell_type": "markdown",
   "metadata": {},
   "source": [
    "###### Estimating for Independent Paths"
   ]
  },
  {
   "cell_type": "code",
   "execution_count": 23,
   "metadata": {},
   "outputs": [
    {
     "name": "stdout",
     "output_type": "stream",
     "text": [
      "Option Value (Estimation from Independent Paths) : 18.041764743502128\n"
     ]
    }
   ],
   "source": [
    "ind_paths = blackscholes_mc(S0, vol, r, q, ts, npaths)  ### These will be independent of previous pthas \n",
    "\n",
    "V = np.full((n_exer+1, len(ind_paths), len(ind_paths[0])), 0, dtype=np.float64)  ## Creating matrix of option value \n",
    "V[0, :, :] = 0  # Value of the ption when 0 exercise opportunities left = 0\n",
    "V[1:, -1, :] = np.maximum(K - ind_paths[-1], 0)  # Value of option when just one exercise left on the expiry is the exercise value\n",
    "CV = np.full((n_exer+1, len(ind_paths), len(ind_paths[0])), 0, dtype=np.float64) # Creating matrix of  continuation value\n",
    "CV[0, :, :] = 0  # Continuation value when no exercise left is 0 \n",
    "ind = np.full((n_exer, len(ind_paths[0])), np.nan, dtype=bool) # matrix of decision indices across each path\n",
    "\n",
    "for i in range(len(ts) - 2, 0, -1):                        # backward induction\n",
    "    idx = (ind_paths[i] < K)                               # worth exercise\n",
    "    discount = np.exp(-r * (ts[i + 1] - ts[i]))\n",
    "    for exer_idx in range(n_exer):\n",
    "        CV[exer_idx+1, i, :] = np.polyval(poly_fit[exer_idx, i, :], ind_paths[i])\n",
    "        CV[exer_idx+1, i, ~idx] = CV[exer_idx+1, i + 1, ~idx] * discount\n",
    "    exerval = np.maximum(K - ind_paths[i], 0)\n",
    "    for exer_idx in range(1, n_exer+1):\n",
    "        ind[exer_idx-1, :] = (exerval + CV[exer_idx-1, i, :]) > CV[exer_idx, i, :]\n",
    "        V[exer_idx, i, ind[exer_idx-1, :]] = V[exer_idx-1, i + 1, ind[exer_idx-1, :]] * discount + exerval[ind[exer_idx-1, :]]\n",
    "        V[exer_idx, i, ~ind[exer_idx-1, :]] = V[exer_idx, i + 1, ~ind[exer_idx-1, :]] * discount\n",
    "\n",
    "\n",
    "V3 = np.mean(V[n_exer, 1, :] * np.exp(-r * (ts[1] - ts[0])))        \n",
    "        \n",
    "print(\"Option Value (Estimation from Independent Paths) :\",V3)\n"
   ]
  },
  {
   "cell_type": "markdown",
   "metadata": {},
   "source": [
    "<b>(b).</b> If $V_3$ be the price of the choose option and $V_1$ the price of the standard Bermudan put option with the same exercise schedule and strike. We want to compare $V_3$ with $3V_1$"
   ]
  },
  {
   "cell_type": "code",
   "execution_count": 24,
   "metadata": {},
   "outputs": [
    {
     "name": "stdout",
     "output_type": "stream",
     "text": [
      "Polynomial Fits :\n",
      "deque([array([ 3.31819143e-03, -1.50537353e+00,  1.18613014e+02]),\n",
      "       array([ 5.04503986e-03, -1.76909312e+00,  1.28578182e+02]),\n",
      "       array([ 6.31387520e-03, -1.96068673e+00,  1.35742809e+02]),\n",
      "       array([ 7.37090403e-03, -2.12176422e+00,  1.41861069e+02]),\n",
      "       array([ 8.68606783e-03, -2.33247862e+00,  1.50306816e+02]),\n",
      "       array([ 9.87954473e-03, -2.52497902e+00,  1.58112356e+02]),\n",
      "       array([ 1.09022068e-02, -2.69047309e+00,  1.64842505e+02]),\n",
      "       array([ 1.21986307e-02, -2.90654627e+00,  1.73896791e+02]),\n",
      "       array([ 1.33080427e-02, -3.09529723e+00,  1.82015381e+02]),\n",
      "       array([ 1.41750064e-02, -3.24467178e+00,  1.88564348e+02]),\n",
      "       array([ 1.33690555e-02, -3.08206276e+00,  1.80589318e+02])])\n"
     ]
    }
   ],
   "source": [
    "payoff = np.maximum(K-paths[-1], 0)\n",
    "poly_fit = deque([])\n",
    "for i in range(len(ts)-2, 0, -1):\n",
    "    idx=(paths[i]<K)\n",
    "    discount = np.exp(-r*(ts[i+1]-ts[i]))\n",
    "    payoff = payoff*discount\n",
    "    poly_fit.append(np.polyfit(paths[i][idx], payoff[idx], deg=2))\n",
    "    contval = np.polyval(poly_fit[-1], paths[i])\n",
    "    contval[~idx]=payoff[~idx]\n",
    "    exerval = np.maximum(K-paths[i], 0)\n",
    "    # identify the paths where we should exercise\n",
    "    ind = exerval > contval\n",
    "    payoff[ind] = exerval[ind]\n",
    "\n",
    "print(\"Polynomial Fits :\")\n",
    "pprint(poly_fit)"
   ]
  },
  {
   "cell_type": "markdown",
   "metadata": {},
   "source": [
    "###### Estimating for Independent Paths"
   ]
  },
  {
   "cell_type": "code",
   "execution_count": 25,
   "metadata": {},
   "outputs": [
    {
     "name": "stdout",
     "output_type": "stream",
     "text": [
      "Bermudan Option Value V1 (single exercise) : 6.274608971627968\n"
     ]
    }
   ],
   "source": [
    "payoff = np.maximum(K-ind_paths[-1], 0)\n",
    "for i in range(len(ts)-2, 0, -1):\n",
    "    idx=(ind_paths[i]<K)\n",
    "    discount = np.exp(-r*(ts[i+1]-ts[i]))\n",
    "    payoff = payoff*discount\n",
    "    contval = np.polyval(poly_fit.popleft(), ind_paths[i])\n",
    "    contval[~idx]=payoff[~idx]\n",
    "    exerval = np.maximum(K-ind_paths[i], 0)\n",
    "    # identify the paths where we should exercise\n",
    "    ind = exerval > contval\n",
    "    payoff[ind] = exerval[ind]\n",
    "V1 = np.mean(payoff*np.exp(-r*(ts[1]-ts[0])))\n",
    "\n",
    "print(\"Bermudan Option Value V1 (single exercise) :\",V1)"
   ]
  },
  {
   "cell_type": "markdown",
   "metadata": {},
   "source": [
    "###### Comparing values of Bermudan Option Chooser Option with 3 Exercise and Normal Bermudan Option"
   ]
  },
  {
   "cell_type": "code",
   "execution_count": 26,
   "metadata": {},
   "outputs": [
    {
     "name": "stdout",
     "output_type": "stream",
     "text": [
      "Bermudan Chooser Option : 18.041764743502128\n",
      "Normal Bermudan Option : 6.274608971627968\n",
      "Comparing 3V1 and V3 : 3V1= 18.823826914883902 V3= 18.041764743502128 V3>3V1= False\n"
     ]
    }
   ],
   "source": [
    "print(\"Bermudan Chooser Option :\",V3)\n",
    "print(\"Normal Bermudan Option :\",V1)\n",
    "print(\"Comparing 3V1 and V3 :\", \"3V1=\",3*V1,\"V3=\",V3,\"V3>3V1=\",V3>3*V1)"
   ]
  },
  {
   "cell_type": "markdown",
   "metadata": {},
   "source": [
    "This is inline with our expectation because when we have 3 Bermudan Options we can exercise all the three at the same optimal stoppin time. When we have a single Bermudan Option with 3 Exercise Values we can exercise only once at an optimal stopping time whlie the other two exercise will be at some other time. This makes the value of 3 normal bermudan options greater than the price of a signle bermudan option with three exercise values."
   ]
  }
 ],
 "metadata": {
  "anaconda-cloud": {},
  "kernelspec": {
   "display_name": "Python 3 (ipykernel)",
   "language": "python",
   "name": "python3"
  },
  "language_info": {
   "codemirror_mode": {
    "name": "ipython",
    "version": 3
   },
   "file_extension": ".py",
   "mimetype": "text/x-python",
   "name": "python",
   "nbconvert_exporter": "python",
   "pygments_lexer": "ipython3",
   "version": "3.9.7"
  }
 },
 "nbformat": 4,
 "nbformat_minor": 4
}
